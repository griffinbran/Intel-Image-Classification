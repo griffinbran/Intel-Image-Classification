{
 "cells": [
  {
   "cell_type": "code",
<<<<<<< HEAD
   "execution_count": 130,
=======
   "execution_count": 3,
>>>>>>> cd784c653aeb0864e94f9c1134e60272f5fdc9c3
   "metadata": {},
   "outputs": [],
   "source": [
    "import pandas as pd\n",
    "import numpy as np\n",
    "import matplotlib.pyplot as plt\n",
    "import matplotlib.image as mpimg\n",
<<<<<<< HEAD
    "import cv2, os\n",
    "from sklearn.utils import shuffle\n",
    "from tensorflow.keras import utils\n",
    "from tensorflow.keras.models import Sequential\n",
    "from tensorflow.keras.layers import Dense, Dropout, Flatten, Conv2D, MaxPooling2D"
=======
    "import cv2, os"
>>>>>>> cd784c653aeb0864e94f9c1134e60272f5fdc9c3
   ]
  },
  {
   "cell_type": "code",
<<<<<<< HEAD
   "execution_count": 110,
   "metadata": {},
   "outputs": [],
   "source": [
    "def get_images(directory):\n",
    "    Images = []\n",
    "    Labels = []\n",
    "    label = 0\n",
    "    \n",
    "    for labels in os.listdir(directory): \n",
    "        if labels == 'glacier':\n",
    "            label = 2\n",
    "        elif labels == 'sea':\n",
    "            label = 4\n",
    "        elif labels == 'buildings':\n",
    "            label = 0\n",
    "        elif labels == 'forest':\n",
    "            label = 1\n",
    "        elif labels == 'street':\n",
    "            label = 5\n",
    "        elif labels == 'mountain':\n",
    "            label = 3\n",
    "        \n",
    "        for image_file in os.listdir(directory+labels): \n",
    "            image = cv2.imread(directory+labels+r'/'+image_file) \n",
    "            image = cv2.resize(image,(150,150)) \n",
    "            Images.append(image)\n",
    "            Labels.append(label)\n",
    "    # Shuffle data\n",
    "    return shuffle(Images,Labels,random_state=86) \n",
    "\n",
    "def get_classlabel(class_code):\n",
    "    labels = {2:'glacier', 4:'sea', 0:'buildings', 1:'forest', 5:'street', 3:'mountain'}\n",
    "    \n",
    "    return labels[class_code]"
   ]
  },
  {
   "cell_type": "code",
   "execution_count": 111,
   "metadata": {},
   "outputs": [],
   "source": [
    "train_images, train_labels = get_images('../IMG/train/') \n",
    "valid_images, valid_labels = get_images('../IMG/valid/') "
   ]
  },
  {
   "cell_type": "code",
   "execution_count": 112,
   "metadata": {},
   "outputs": [],
   "source": [
    "train_images = np.array(train_images) \n",
    "train_labels = np.array(train_labels)\n",
    "\n",
    "valid_images = np.array(valid_images) \n",
    "valid_labels = np.array(valid_labels)"
   ]
  },
  {
   "cell_type": "code",
   "execution_count": 113,
   "metadata": {},
   "outputs": [
    {
     "data": {
      "text/plain": [
       "(14034, 150, 150, 3)"
      ]
     },
     "execution_count": 113,
     "metadata": {},
     "output_type": "execute_result"
    }
   ],
   "source": [
    "train_images.shape"
   ]
  },
  {
   "cell_type": "code",
   "execution_count": 114,
=======
   "execution_count": 4,
>>>>>>> cd784c653aeb0864e94f9c1134e60272f5fdc9c3
   "metadata": {},
   "outputs": [
    {
     "data": {
      "text/plain": [
<<<<<<< HEAD
       "(3000, 150, 150, 3)"
      ]
     },
     "execution_count": 114,
=======
       "'C:\\\\Users\\\\bgrif\\\\Desktop\\\\dsi\\\\projects\\\\4project-Intel-Image-Classification\\\\Intel-Image-Classification'"
      ]
     },
     "execution_count": 4,
>>>>>>> cd784c653aeb0864e94f9c1134e60272f5fdc9c3
     "metadata": {},
     "output_type": "execute_result"
    }
   ],
   "source": [
<<<<<<< HEAD
    "valid_images.shape"
   ]
  },
  {
   "cell_type": "code",
   "execution_count": 124,
   "metadata": {},
   "outputs": [],
   "source": [
    "X_train =train_images.astype('float32')\n",
    "X_valid = valid_images.astype('float32')\n",
    "\n",
    "X_train /= 255\n",
    "X_valid /= 255"
   ]
  },
  {
   "cell_type": "code",
   "execution_count": 125,
   "metadata": {},
   "outputs": [
    {
     "name": "stdout",
     "output_type": "stream",
     "text": [
      "(14034, 150, 150, 3)\n",
      "(3000, 150, 150, 3)\n"
     ]
    }
   ],
   "source": [
    "print(X_train.shape)\n",
    "print(X_valid.shape)"
   ]
  },
  {
   "cell_type": "code",
   "execution_count": 131,
   "metadata": {},
   "outputs": [],
   "source": [
    "y_train = utils.to_categorical(train_labels, num_classes = 6)\n",
    "y_valid = utils.to_categorical(valid_labels, num_classes = 6)"
   ]
  },
  {
   "cell_type": "code",
   "execution_count": 132,
   "metadata": {},
   "outputs": [],
   "source": [
    "model = Sequential()\n",
    "model.add(Flatten(input_shape=(150,150,3))) # 150*150*3 = 22_500*3 Features\n",
    "model.add(Dense(128, #128 nodes in 1st hidden layer\n",
    "               activation='relu'))\n",
    "model.add(Dense(32, #32 nodes\n",
    "               activation='relu'))\n",
    "model.add(Dense(6, # 6 output features(categories)\n",
    "               activation='softmax'))\n",
    "model.compile(loss='categorical_crossentropy',\n",
    "              optimizer='adam',\n",
    "              metrics=['accuracy']) "
   ]
  },
  {
   "cell_type": "code",
   "execution_count": 133,
   "metadata": {},
   "outputs": [
    {
     "name": "stdout",
     "output_type": "stream",
     "text": [
      "Epoch 1/10\n",
      "55/55 [==============================] - 4s 78ms/step - loss: 5.2288 - accuracy: 0.3328 - val_loss: 1.4476 - val_accuracy: 0.4400\n",
      "Epoch 2/10\n",
      "55/55 [==============================] - 4s 77ms/step - loss: 1.6990 - accuracy: 0.4248 - val_loss: 1.4088 - val_accuracy: 0.4870\n",
      "Epoch 3/10\n",
      "55/55 [==============================] - 4s 77ms/step - loss: 1.8886 - accuracy: 0.4313 - val_loss: 1.8053 - val_accuracy: 0.3980\n",
      "Epoch 4/10\n",
      "55/55 [==============================] - 4s 76ms/step - loss: 1.8475 - accuracy: 0.4272 - val_loss: 2.3549 - val_accuracy: 0.3623\n",
      "Epoch 5/10\n",
      "55/55 [==============================] - 4s 77ms/step - loss: 1.5889 - accuracy: 0.4704 - val_loss: 1.4155 - val_accuracy: 0.4643\n",
      "Epoch 6/10\n",
      "55/55 [==============================] - 4s 81ms/step - loss: 1.4742 - accuracy: 0.4823 - val_loss: 1.5347 - val_accuracy: 0.4753\n",
      "Epoch 7/10\n",
      "55/55 [==============================] - 4s 79ms/step - loss: 2.0792 - accuracy: 0.4166 - val_loss: 2.2501 - val_accuracy: 0.3873\n",
      "Epoch 8/10\n",
      "55/55 [==============================] - 4s 77ms/step - loss: 1.4702 - accuracy: 0.5030 - val_loss: 1.5304 - val_accuracy: 0.4753\n",
      "Epoch 9/10\n",
      "55/55 [==============================] - 4s 77ms/step - loss: 1.4495 - accuracy: 0.4968 - val_loss: 1.4633 - val_accuracy: 0.4877\n",
      "Epoch 10/10\n",
      "55/55 [==============================] - 4s 75ms/step - loss: 1.3750 - accuracy: 0.5084 - val_loss: 1.6938 - val_accuracy: 0.4740\n"
     ]
    }
   ],
   "source": [
    "history = model.fit(X_train,\n",
    "                    y_train, \n",
    "                    batch_size=256,\n",
    "                    validation_data=(X_valid, y_valid),\n",
    "                    epochs=10,\n",
    "                    verbose=1);"
   ]
  },
  {
   "cell_type": "code",
   "execution_count": 134,
   "metadata": {},
   "outputs": [
    {
     "data": {
      "image/png": "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\n",
      "text/plain": [
       "<Figure size 864x576 with 1 Axes>"
      ]
     },
     "metadata": {
      "needs_background": "light"
     },
     "output_type": "display_data"
    }
   ],
   "source": [
    "# Check out our train loss and test loss over epochs.\n",
    "# looking for test/validation loss to decrease and then increase \n",
    "# Looking for train loss to always decrease\n",
    "train_loss = history.history['loss']\n",
    "test_loss = history.history['val_loss']\n",
    "epoch_labels = history.epoch\n",
    "\n",
    "# Set figure size.\n",
    "plt.figure(figsize=(12, 8))\n",
    "\n",
    "# Generate line plot of training, testing loss over epochs.\n",
    "plt.plot(train_loss, label='Training Loss', color='#185fad')\n",
    "plt.plot(test_loss, label='Testing Loss', color='orange')\n",
    "\n",
    "# Set title\n",
    "plt.title('Training and Testing Loss by Epoch', fontsize=25)\n",
    "plt.xlabel('Epoch', fontsize=18)\n",
    "plt.ylabel('Categorical Crossentropy', fontsize=18)\n",
    "plt.xticks(epoch_labels, epoch_labels)    # ticks, labels\n",
    "\n",
    "plt.legend(fontsize=18);"
   ]
  },
  {
   "cell_type": "code",
   "execution_count": 148,
   "metadata": {},
   "outputs": [
    {
     "name": "stdout",
     "output_type": "stream",
     "text": [
      "Model: \"sequential_1\"\n",
      "_________________________________________________________________\n",
      "Layer (type)                 Output Shape              Param #   \n",
      "=================================================================\n",
      "flatten_1 (Flatten)          (None, 67500)             0         \n",
      "_________________________________________________________________\n",
      "dense_3 (Dense)              (None, 128)               8640128   \n",
      "_________________________________________________________________\n",
      "dense_4 (Dense)              (None, 32)                4128      \n",
      "_________________________________________________________________\n",
      "dense_5 (Dense)              (None, 6)                 198       \n",
      "=================================================================\n",
      "Total params: 8,644,454\n",
      "Trainable params: 8,644,454\n",
      "Non-trainable params: 0\n",
      "_________________________________________________________________\n"
     ]
    }
   ],
   "source": [
    "model.summary()"
   ]
  },
  {
   "cell_type": "code",
   "execution_count": 143,
   "metadata": {},
   "outputs": [],
   "source": [
    "model2 = Sequential()\n",
    "model2.add(Flatten(input_shape=(150,150,3))) # 150*150*3 = 22_500*3 Features\n",
    "model2.add(Dense(128, #128 nodes in 1st hidden layer\n",
    "               activation='relu'))\n",
    "model2.add(Dense(64, #32 nodes\n",
    "               activation='relu'))\n",
    "model2.add(Dense(32, #32 nodes\n",
    "               activation='relu'))\n",
    "model2.add(Dense(6, # 6 output features(categories)\n",
    "               activation='softmax'))\n",
    "model2.compile(loss='categorical_crossentropy',\n",
    "              optimizer='adam',\n",
    "              metrics=['accuracy']) "
   ]
  },
  {
   "cell_type": "code",
   "execution_count": 145,
   "metadata": {},
   "outputs": [
    {
     "name": "stdout",
     "output_type": "stream",
     "text": [
      "Epoch 1/20\n",
      "110/110 [==============================] - 11s 99ms/step - loss: 1.4740 - accuracy: 0.3962 - val_loss: 1.5390 - val_accuracy: 0.3900\n",
      "Epoch 2/20\n",
      "110/110 [==============================] - 8s 75ms/step - loss: 1.4386 - accuracy: 0.4343 - val_loss: 1.4675 - val_accuracy: 0.4440\n",
      "Epoch 3/20\n",
      "110/110 [==============================] - 7s 62ms/step - loss: 1.4396 - accuracy: 0.4333 - val_loss: 1.4020 - val_accuracy: 0.4673\n",
      "Epoch 4/20\n",
      "110/110 [==============================] - 6s 58ms/step - loss: 1.3996 - accuracy: 0.4534 - val_loss: 1.4193 - val_accuracy: 0.4720\n",
      "Epoch 5/20\n",
      "110/110 [==============================] - 6s 53ms/step - loss: 1.3444 - accuracy: 0.4885 - val_loss: 1.4900 - val_accuracy: 0.4437\n",
      "Epoch 6/20\n",
      "110/110 [==============================] - 6s 53ms/step - loss: 1.3356 - accuracy: 0.4896 - val_loss: 1.4225 - val_accuracy: 0.4673\n",
      "Epoch 7/20\n",
      "110/110 [==============================] - 6s 52ms/step - loss: 1.2996 - accuracy: 0.4933 - val_loss: 1.3933 - val_accuracy: 0.4723\n",
      "Epoch 8/20\n",
      "110/110 [==============================] - 6s 52ms/step - loss: 1.2324 - accuracy: 0.5239 - val_loss: 1.3465 - val_accuracy: 0.4997\n",
      "Epoch 9/20\n",
      "110/110 [==============================] - 6s 52ms/step - loss: 1.2099 - accuracy: 0.5310 - val_loss: 1.2812 - val_accuracy: 0.5160\n",
      "Epoch 10/20\n",
      "110/110 [==============================] - 6s 52ms/step - loss: 1.1777 - accuracy: 0.5408 - val_loss: 1.2962 - val_accuracy: 0.5080\n",
      "Epoch 11/20\n",
      "110/110 [==============================] - 6s 52ms/step - loss: 1.1493 - accuracy: 0.5581 - val_loss: 1.3507 - val_accuracy: 0.4857\n",
      "Epoch 12/20\n",
      "110/110 [==============================] - 6s 52ms/step - loss: 1.1569 - accuracy: 0.5524 - val_loss: 1.2495 - val_accuracy: 0.5397\n",
      "Epoch 13/20\n",
      "110/110 [==============================] - 6s 55ms/step - loss: 1.1057 - accuracy: 0.5749 - val_loss: 1.2744 - val_accuracy: 0.5263\n",
      "Epoch 14/20\n",
      "110/110 [==============================] - 6s 59ms/step - loss: 1.0904 - accuracy: 0.5829 - val_loss: 1.2287 - val_accuracy: 0.5353\n",
      "Epoch 15/20\n",
      "110/110 [==============================] - 7s 65ms/step - loss: 1.0471 - accuracy: 0.6015 - val_loss: 1.2571 - val_accuracy: 0.5373\n",
      "Epoch 16/20\n",
      "110/110 [==============================] - 9s 84ms/step - loss: 1.0295 - accuracy: 0.6048 - val_loss: 1.3366 - val_accuracy: 0.5010\n",
      "Epoch 17/20\n",
      "110/110 [==============================] - 11s 99ms/step - loss: 1.0274 - accuracy: 0.6014 - val_loss: 1.2444 - val_accuracy: 0.5213\n",
      "Epoch 18/20\n",
      "110/110 [==============================] - 11s 101ms/step - loss: 1.0140 - accuracy: 0.6087 - val_loss: 1.3035 - val_accuracy: 0.5133\n",
      "Epoch 19/20\n",
      "110/110 [==============================] - 11s 103ms/step - loss: 0.9695 - accuracy: 0.6266 - val_loss: 1.2160 - val_accuracy: 0.5593\n",
      "Epoch 20/20\n",
      "110/110 [==============================] - 11s 104ms/step - loss: 0.9384 - accuracy: 0.6402 - val_loss: 1.1975 - val_accuracy: 0.5643\n"
     ]
    }
   ],
   "source": [
    "history = model2.fit(X_train,\n",
    "                    y_train, \n",
    "                    batch_size=128,\n",
    "                    validation_data=(X_valid, y_valid),\n",
    "                    epochs=20,\n",
    "                    verbose=1);"
   ]
  },
  {
   "cell_type": "code",
   "execution_count": 146,
   "metadata": {},
   "outputs": [
    {
     "data": {
      "image/png": "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\n",
      "text/plain": [
       "<Figure size 864x576 with 1 Axes>"
      ]
     },
     "metadata": {
      "needs_background": "light"
     },
     "output_type": "display_data"
    }
   ],
   "source": [
    "# Check out our train loss and test loss over epochs.\n",
    "# looking for test/validation loss to decrease and then increase \n",
    "# Looking for train loss to always decrease\n",
    "train_loss = history.history['loss']\n",
    "test_loss = history.history['val_loss']\n",
    "epoch_labels = history.epoch\n",
    "\n",
    "# Set figure size.\n",
    "plt.figure(figsize=(12, 8))\n",
    "\n",
    "# Generate line plot of training, testing loss over epochs.\n",
    "plt.plot(train_loss, label='Training Loss', color='#185fad')\n",
    "plt.plot(test_loss, label='Testing Loss', color='orange')\n",
    "\n",
    "# Set title\n",
    "plt.title('Training and Testing Loss by Epoch', fontsize=25)\n",
    "plt.xlabel('Epoch', fontsize=18)\n",
    "plt.ylabel('Categorical Crossentropy', fontsize=18)\n",
    "plt.xticks(epoch_labels, epoch_labels)    # ticks, labels\n",
    "\n",
    "plt.legend(fontsize=18);"
=======
    "%pwd"
>>>>>>> cd784c653aeb0864e94f9c1134e60272f5fdc9c3
   ]
  },
  {
   "cell_type": "code",
   "execution_count": null,
   "metadata": {},
   "outputs": [],
<<<<<<< HEAD
   "source": [
    "cnn_model = Sequential()\n",
    "cnn_model.add(Flatten(input_shape=(150,150,3)))\n",
    "cnn_model.add(Dense(128,\n",
    "               activation='relu'))\n",
    "cnn_model.add(Dense(32,\n",
    "               activation='relu'))\n",
    "cnn_model.add(Dense(6,\n",
    "               activation='softmax'))\n",
    "cnn_model.compile(loss='categorical_crossentropy',\n",
    "              optimizer='adam',\n",
    "              metrics=['accuracy']) "
   ]
  },
  {
   "cell_type": "code",
   "execution_count": 135,
   "metadata": {},
   "outputs": [
    {
     "name": "stdout",
     "output_type": "stream",
     "text": [
      "Epoch 1/10\n",
      "110/110 [==============================] - 88s 802ms/step - loss: 1.8170 - accuracy: 0.2637 - val_loss: 1.5503 - val_accuracy: 0.4210\n",
      "Epoch 2/10\n",
      "110/110 [==============================] - 109s 988ms/step - loss: 1.5479 - accuracy: 0.3506 - val_loss: 1.3953 - val_accuracy: 0.4513\n",
      "Epoch 3/10\n",
      "110/110 [==============================] - 98s 888ms/step - loss: 1.4295 - accuracy: 0.3958 - val_loss: 1.2680 - val_accuracy: 0.4790\n",
      "Epoch 4/10\n",
      "110/110 [==============================] - 115s 1s/step - loss: 1.3222 - accuracy: 0.4404 - val_loss: 1.1845 - val_accuracy: 0.5143\n",
      "Epoch 5/10\n",
      "110/110 [==============================] - 111s 1s/step - loss: 1.2520 - accuracy: 0.4585 - val_loss: 1.0973 - val_accuracy: 0.5297\n",
      "Epoch 6/10\n",
      "110/110 [==============================] - 114s 1s/step - loss: 1.1787 - accuracy: 0.4850 - val_loss: 1.0617 - val_accuracy: 0.5390\n",
      "Epoch 7/10\n",
      "110/110 [==============================] - 111s 1s/step - loss: 1.1185 - accuracy: 0.5021 - val_loss: 1.0223 - val_accuracy: 0.5397\n",
      "Epoch 8/10\n",
      "110/110 [==============================] - 119s 1s/step - loss: 1.0869 - accuracy: 0.5106 - val_loss: 0.9693 - val_accuracy: 0.5523\n",
      "Epoch 9/10\n",
      "110/110 [==============================] - 102s 927ms/step - loss: 1.0707 - accuracy: 0.5171 - val_loss: 0.9885 - val_accuracy: 0.5473\n",
      "Epoch 10/10\n",
      "110/110 [==============================] - 112s 1s/step - loss: 1.0261 - accuracy: 0.5257 - val_loss: 0.9956 - val_accuracy: 0.5440\n"
     ]
    }
   ],
   "source": [
    "# Instantiate a CNN.\n",
    "cnn_model = Sequential()\n",
    "\n",
    "# Add a convolutional layer\n",
    "cnn_model.add(Conv2D(filters=16,             # 16 filters\n",
    "                       kernel_size=(3,3),      # height/width of filter\n",
    "                       activation='relu',      # activation function \n",
    "                       input_shape=(150,150,3))) \n",
    "\n",
    "# Add a pooling layer.\n",
    "cnn_model.add(MaxPooling2D(pool_size=(2,2))) # dimensions of region of pooling\n",
    "\n",
    "# Add another convolutional layer.\n",
    "cnn_model.add(Conv2D(64,\n",
    "                       kernel_size=(3,3),\n",
    "                       activation='relu'))\n",
    "\n",
    "# Add another pooling layer.\n",
    "cnn_model.add(MaxPooling2D(pool_size=(2,2)))\n",
    "\n",
    "# We have to remember to flatten to go from the \"box\" to the vertical line of nodes!\n",
    "cnn_model.add(Flatten())\n",
    "\n",
    "# Add a densely-connected layer with 64 neurons.\n",
    "cnn_model.add(Dense(64, activation='relu'))\n",
    "\n",
    "# Let's try to avoid overfitting!\n",
    "cnn_model.add(Dropout(0.5))\n",
    "\n",
    "# Add a densely-connected layer with 32 neurons.\n",
    "cnn_model.add(Dense(32, activation='relu'))\n",
    "\n",
    "# Let's try to avoid overfitting!\n",
    "cnn_model.add(Dropout(0.5))\n",
    "\n",
    "# Add a final layer with 10 neurons.\n",
    "cnn_model.add(Dense(6, activation='softmax'))\n",
    "\n",
    "# Compile model\n",
    "cnn_model.compile(loss='categorical_crossentropy',\n",
    "                    optimizer='adam',\n",
    "                    metrics=['accuracy'])\n",
    "\n",
    "# Fit model on training data\n",
    "history = cnn_model.fit(X_train,\n",
    "                          y_train,\n",
    "                          batch_size=128,\n",
    "                          validation_data=(X_valid, y_valid),\n",
    "                          epochs=10,\n",
    "                          verbose=1)"
   ]
  },
  {
   "cell_type": "code",
   "execution_count": 136,
   "metadata": {},
   "outputs": [
    {
     "data": {
      "image/png": "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\n",
      "text/plain": [
       "<Figure size 864x576 with 1 Axes>"
      ]
     },
     "metadata": {
      "needs_background": "light"
     },
     "output_type": "display_data"
    }
   ],
   "source": [
    "# Check out our train loss and test loss over epochs.\n",
    "# looking for test/validation loss to decrease and then increase \n",
    "# Looking for train loss to always decrease\n",
    "train_loss = history.history['loss']\n",
    "test_loss = history.history['val_loss']\n",
    "epoch_labels = history.epoch\n",
    "\n",
    "# Set figure size.\n",
    "plt.figure(figsize=(12, 8))\n",
    "\n",
    "# Generate line plot of training, testing loss over epochs.\n",
    "plt.plot(train_loss, label='Training Loss', color='#185fad')\n",
    "plt.plot(test_loss, label='Testing Loss', color='orange')\n",
    "\n",
    "# Set title\n",
    "plt.title('Training and Testing Loss by Epoch', fontsize=25)\n",
    "plt.xlabel('Epoch', fontsize=18)\n",
    "plt.ylabel('Categorical Crossentropy', fontsize=18)\n",
    "plt.xticks(epoch_labels, epoch_labels)    # ticks, labels\n",
    "\n",
    "plt.legend(fontsize=18);"
   ]
  },
  {
   "cell_type": "code",
   "execution_count": 147,
   "metadata": {},
   "outputs": [
    {
     "name": "stdout",
     "output_type": "stream",
     "text": [
      "Model: \"sequential_2\"\n",
      "_________________________________________________________________\n",
      "Layer (type)                 Output Shape              Param #   \n",
      "=================================================================\n",
      "conv2d (Conv2D)              (None, 148, 148, 16)      448       \n",
      "_________________________________________________________________\n",
      "max_pooling2d (MaxPooling2D) (None, 74, 74, 16)        0         \n",
      "_________________________________________________________________\n",
      "conv2d_1 (Conv2D)            (None, 72, 72, 64)        9280      \n",
      "_________________________________________________________________\n",
      "max_pooling2d_1 (MaxPooling2 (None, 36, 36, 64)        0         \n",
      "_________________________________________________________________\n",
      "flatten_2 (Flatten)          (None, 82944)             0         \n",
      "_________________________________________________________________\n",
      "dense_6 (Dense)              (None, 64)                5308480   \n",
      "_________________________________________________________________\n",
      "dropout (Dropout)            (None, 64)                0         \n",
      "_________________________________________________________________\n",
      "dense_7 (Dense)              (None, 32)                2080      \n",
      "_________________________________________________________________\n",
      "dropout_1 (Dropout)          (None, 32)                0         \n",
      "_________________________________________________________________\n",
      "dense_8 (Dense)              (None, 6)                 198       \n",
      "=================================================================\n",
      "Total params: 5,320,486\n",
      "Trainable params: 5,320,486\n",
      "Non-trainable params: 0\n",
      "_________________________________________________________________\n"
     ]
    }
   ],
   "source": [
    "cnn_model.summary()"
   ]
=======
   "source": []
>>>>>>> cd784c653aeb0864e94f9c1134e60272f5fdc9c3
  },
  {
   "cell_type": "code",
   "execution_count": null,
   "metadata": {},
   "outputs": [],
<<<<<<< HEAD
   "source": []
  },
  {
   "cell_type": "code",
   "execution_count": 149,
   "metadata": {},
   "outputs": [
    {
     "name": "stdout",
     "output_type": "stream",
     "text": [
      "Model: \"sequential_5\"\n",
      "_________________________________________________________________\n",
      "Layer (type)                 Output Shape              Param #   \n",
      "=================================================================\n",
      "flatten_5 (Flatten)          (None, 67500)             0         \n",
      "_________________________________________________________________\n",
      "dense_17 (Dense)             (None, 128)               8640128   \n",
      "_________________________________________________________________\n",
      "dense_18 (Dense)             (None, 64)                8256      \n",
      "_________________________________________________________________\n",
      "dense_19 (Dense)             (None, 32)                2080      \n",
      "_________________________________________________________________\n",
      "dense_20 (Dense)             (None, 6)                 198       \n",
      "=================================================================\n",
      "Total params: 8,650,662\n",
      "Trainable params: 8,650,662\n",
      "Non-trainable params: 0\n",
      "_________________________________________________________________\n"
     ]
    }
   ],
   "source": [
    "model2.summary()"
   ]
  },
  {
   "cell_type": "code",
   "execution_count": null,
   "metadata": {},
   "outputs": [],
   "source": []
  },
  {
   "cell_type": "code",
   "execution_count": null,
   "metadata": {},
   "outputs": [],
   "source": []
  },
  {
   "cell_type": "code",
   "execution_count": null,
   "metadata": {},
   "outputs": [],
   "source": []
  },
  {
   "cell_type": "code",
   "execution_count": null,
   "metadata": {},
   "outputs": [],
   "source": []
  },
  {
   "cell_type": "code",
   "execution_count": null,
   "metadata": {},
   "outputs": [],
   "source": []
  },
  {
   "cell_type": "code",
   "execution_count": null,
   "metadata": {},
   "outputs": [],
   "source": []
  },
  {
   "cell_type": "code",
   "execution_count": null,
   "metadata": {},
   "outputs": [],
   "source": []
  },
  {
   "cell_type": "code",
   "execution_count": null,
   "metadata": {},
   "outputs": [],
   "source": []
  },
  {
   "cell_type": "code",
   "execution_count": null,
   "metadata": {},
   "outputs": [],
   "source": []
  },
  {
   "cell_type": "code",
   "execution_count": null,
   "metadata": {},
   "outputs": [],
   "source": []
  },
  {
   "cell_type": "code",
   "execution_count": null,
   "metadata": {},
   "outputs": [],
   "source": []
  },
  {
   "cell_type": "code",
   "execution_count": null,
   "metadata": {},
   "outputs": [],
   "source": []
  },
  {
   "cell_type": "code",
   "execution_count": null,
   "metadata": {},
   "outputs": [],
   "source": []
  },
  {
   "cell_type": "code",
   "execution_count": null,
   "metadata": {},
   "outputs": [],
   "source": []
  },
  {
   "cell_type": "code",
   "execution_count": null,
   "metadata": {},
   "outputs": [],
   "source": []
  },
  {
   "cell_type": "code",
   "execution_count": null,
   "metadata": {},
   "outputs": [],
   "source": []
  },
  {
   "cell_type": "code",
   "execution_count": null,
   "metadata": {},
   "outputs": [],
   "source": []
  },
  {
   "cell_type": "code",
   "execution_count": null,
   "metadata": {},
   "outputs": [],
   "source": []
  },
  {
   "cell_type": "code",
   "execution_count": null,
   "metadata": {},
   "outputs": [],
   "source": []
  },
  {
   "cell_type": "code",
   "execution_count": null,
   "metadata": {},
   "outputs": [],
   "source": []
  },
  {
   "cell_type": "code",
   "execution_count": null,
   "metadata": {},
   "outputs": [],
   "source": []
  },
  {
   "cell_type": "code",
   "execution_count": 26,
   "metadata": {},
   "outputs": [
    {
     "name": "stdout",
     "output_type": "stream",
     "text": [
      "buildings\n",
      "forest\n",
      "glacier\n",
      "mountain\n",
      "sea\n",
      "street\n",
      "buildings\n",
      "forest\n",
      "glacier\n",
      "mountain\n",
      "sea\n",
      "street\n"
     ]
    }
   ],
   "source": [
    "# Function to retreive image data\n",
    "# Loop from @derricw on https://stackoverflow.com/questions/30230592/loading-all-images-using-imread-from-a-given-folder\n",
    "def load_images_from_folder(folder):\n",
    "    images = []\n",
    "    names = []\n",
    "    category = []\n",
    "    print(folder[13:])\n",
    "    for filename in os.listdir(folder):\n",
    "        img = cv2.imread(os.path.join(folder,filename))\n",
    "        img = cv2.resize(img,(150,150))\n",
    "        images.append(img)\n",
    "        names.append(filename[:-4])\n",
    "        if folder[13:] == 'buildings':\n",
    "            category.append(0)\n",
    "        elif folder[13:] == 'forest':\n",
    "            category.append(1)\n",
    "        elif folder[13:] == 'glacier':\n",
    "            category.append(2)\n",
    "        elif folder[13:] == 'mountain':\n",
    "            category.append(3)\n",
    "        elif folder[13:] == 'sea':\n",
    "            category.append(4)\n",
    "        elif folder[13:] == 'street':\n",
    "            category.append(5)\n",
    "    \n",
    "    #dic = {'image_150x150x3':images, 'category':category}\n",
    "    #df = pd.DataFrame(dic, index=names)\n",
    "    return df\n",
    "\n",
    "# Load training data\n",
    "buildings_train = load_images_from_folder('../IMG/train/buildings')\n",
    "forest_train = load_images_from_folder('../IMG/train/forest')\n",
    "glacier_train = load_images_from_folder('../IMG/train/glacier')\n",
    "mountain_train = load_images_from_folder('../IMG/train/mountain')\n",
    "sea_train = load_images_from_folder('../IMG/train/sea')\n",
    "street_train = load_images_from_folder('../IMG/train/street')\n",
    "\n",
    "# Load validation data\n",
    "buildings_valid = load_images_from_folder('../IMG/valid/buildings')\n",
    "forest_valid = load_images_from_folder('../IMG/valid/forest')\n",
    "glacier_valid = load_images_from_folder('../IMG/valid/glacier')\n",
    "mountain_valid = load_images_from_folder('../IMG/valid/mountain')\n",
    "sea_valid = load_images_from_folder('../IMG/valid/sea')\n",
    "street_valid = load_images_from_folder('../IMG/valid/street')"
   ]
  },
  {
   "cell_type": "code",
   "execution_count": 27,
   "metadata": {},
   "outputs": [
    {
     "name": "stdout",
     "output_type": "stream",
     "text": [
      "(150, 150, 3)\n",
      "0    [[[245, 247, 247], [245, 247, 247], [246, 248,...\n",
      "Name: image_150x150x3, dtype: object\n",
      "                                      image_150x150x3  category\n",
      "10  [[[154, 93, 43], [155, 94, 44], [156, 95, 45],...         2\n",
      "2274\n"
     ]
    }
   ],
   "source": [
    "print(street_train.image_150x150x3[0].shape)\n",
    "print(buildings_train.image_150x150x3.head(1))\n",
    "print(glacier_train.head(1))\n",
    "print(len(sea_train))"
   ]
  },
  {
   "cell_type": "code",
   "execution_count": 29,
   "metadata": {},
   "outputs": [],
   "source": [
    "# Concat training data\n",
    "frames_train = [buildings_train, forest_train, glacier_train,mountain_train, sea_train,street_train]\n",
    "train = pd.concat(frames_train, ignore_index=False, axis=0)\n",
    "\n",
    "# Concat validation data\n",
    "frames_valid = [buildings_valid, forest_valid, glacier_valid,mountain_valid, sea_valid,street_valid]\n",
    "valid = pd.concat(frames_valid, ignore_index=False, axis=0)"
   ]
  },
  {
   "cell_type": "code",
   "execution_count": 30,
   "metadata": {},
   "outputs": [
    {
     "data": {
      "text/html": [
       "<div>\n",
       "<style scoped>\n",
       "    .dataframe tbody tr th:only-of-type {\n",
       "        vertical-align: middle;\n",
       "    }\n",
       "\n",
       "    .dataframe tbody tr th {\n",
       "        vertical-align: top;\n",
       "    }\n",
       "\n",
       "    .dataframe thead th {\n",
       "        text-align: right;\n",
       "    }\n",
       "</style>\n",
       "<table border=\"1\" class=\"dataframe\">\n",
       "  <thead>\n",
       "    <tr style=\"text-align: right;\">\n",
       "      <th></th>\n",
       "      <th>image_150x150x3</th>\n",
       "      <th>category</th>\n",
       "    </tr>\n",
       "  </thead>\n",
       "  <tbody>\n",
       "    <tr>\n",
       "      <th>0</th>\n",
       "      <td>[[[245, 247, 247], [245, 247, 247], [246, 248,...</td>\n",
       "      <td>0</td>\n",
       "    </tr>\n",
       "    <tr>\n",
       "      <th>10006</th>\n",
       "      <td>[[[186, 121, 70], [185, 122, 71], [184, 121, 7...</td>\n",
       "      <td>0</td>\n",
       "    </tr>\n",
       "    <tr>\n",
       "      <th>1001</th>\n",
       "      <td>[[[247, 194, 131], [247, 194, 131], [245, 194,...</td>\n",
       "      <td>0</td>\n",
       "    </tr>\n",
       "    <tr>\n",
       "      <th>10014</th>\n",
       "      <td>[[[205, 187, 210], [179, 158, 183], [189, 159,...</td>\n",
       "      <td>0</td>\n",
       "    </tr>\n",
       "    <tr>\n",
       "      <th>10018</th>\n",
       "      <td>[[[63, 32, 0], [63, 32, 0], [62, 34, 0], [62, ...</td>\n",
       "      <td>0</td>\n",
       "    </tr>\n",
       "    <tr>\n",
       "      <th>...</th>\n",
       "      <td>...</td>\n",
       "      <td>...</td>\n",
       "    </tr>\n",
       "    <tr>\n",
       "      <th>9961</th>\n",
       "      <td>[[[251, 251, 251], [251, 251, 251], [253, 253,...</td>\n",
       "      <td>5</td>\n",
       "    </tr>\n",
       "    <tr>\n",
       "      <th>9967</th>\n",
       "      <td>[[[84, 96, 98], [71, 81, 88], [76, 82, 95], [8...</td>\n",
       "      <td>5</td>\n",
       "    </tr>\n",
       "    <tr>\n",
       "      <th>9978</th>\n",
       "      <td>[[[67, 60, 63], [121, 114, 117], [111, 100, 10...</td>\n",
       "      <td>5</td>\n",
       "    </tr>\n",
       "    <tr>\n",
       "      <th>9989</th>\n",
       "      <td>[[[103, 29, 0], [104, 30, 0], [103, 31, 0], [1...</td>\n",
       "      <td>5</td>\n",
       "    </tr>\n",
       "    <tr>\n",
       "      <th>999</th>\n",
       "      <td>[[[119, 110, 97], [125, 116, 106], [212, 208, ...</td>\n",
       "      <td>5</td>\n",
       "    </tr>\n",
       "  </tbody>\n",
       "</table>\n",
       "<p>14034 rows × 2 columns</p>\n",
       "</div>"
      ],
      "text/plain": [
       "                                         image_150x150x3  category\n",
       "0      [[[245, 247, 247], [245, 247, 247], [246, 248,...         0\n",
       "10006  [[[186, 121, 70], [185, 122, 71], [184, 121, 7...         0\n",
       "1001   [[[247, 194, 131], [247, 194, 131], [245, 194,...         0\n",
       "10014  [[[205, 187, 210], [179, 158, 183], [189, 159,...         0\n",
       "10018  [[[63, 32, 0], [63, 32, 0], [62, 34, 0], [62, ...         0\n",
       "...                                                  ...       ...\n",
       "9961   [[[251, 251, 251], [251, 251, 251], [253, 253,...         5\n",
       "9967   [[[84, 96, 98], [71, 81, 88], [76, 82, 95], [8...         5\n",
       "9978   [[[67, 60, 63], [121, 114, 117], [111, 100, 10...         5\n",
       "9989   [[[103, 29, 0], [104, 30, 0], [103, 31, 0], [1...         5\n",
       "999    [[[119, 110, 97], [125, 116, 106], [212, 208, ...         5\n",
       "\n",
       "[14034 rows x 2 columns]"
      ]
     },
     "execution_count": 30,
     "metadata": {},
     "output_type": "execute_result"
    }
   ],
   "source": [
    "train"
   ]
  },
  {
   "cell_type": "code",
   "execution_count": 32,
   "metadata": {},
   "outputs": [
    {
     "data": {
      "text/html": [
       "<div>\n",
       "<style scoped>\n",
       "    .dataframe tbody tr th:only-of-type {\n",
       "        vertical-align: middle;\n",
       "    }\n",
       "\n",
       "    .dataframe tbody tr th {\n",
       "        vertical-align: top;\n",
       "    }\n",
       "\n",
       "    .dataframe thead th {\n",
       "        text-align: right;\n",
       "    }\n",
       "</style>\n",
       "<table border=\"1\" class=\"dataframe\">\n",
       "  <thead>\n",
       "    <tr style=\"text-align: right;\">\n",
       "      <th></th>\n",
       "      <th>image_150x150x3</th>\n",
       "      <th>category</th>\n",
       "    </tr>\n",
       "  </thead>\n",
       "  <tbody>\n",
       "    <tr>\n",
       "      <th>20057</th>\n",
       "      <td>[[[174, 119, 92], [189, 140, 114], [166, 124, ...</td>\n",
       "      <td>0</td>\n",
       "    </tr>\n",
       "    <tr>\n",
       "      <th>20060</th>\n",
       "      <td>[[[222, 182, 110], [221, 181, 109], [220, 181,...</td>\n",
       "      <td>0</td>\n",
       "    </tr>\n",
       "    <tr>\n",
       "      <th>20061</th>\n",
       "      <td>[[[247, 233, 227], [247, 233, 227], [247, 233,...</td>\n",
       "      <td>0</td>\n",
       "    </tr>\n",
       "    <tr>\n",
       "      <th>20064</th>\n",
       "      <td>[[[238, 173, 145], [238, 173, 145], [238, 174,...</td>\n",
       "      <td>0</td>\n",
       "    </tr>\n",
       "    <tr>\n",
       "      <th>20073</th>\n",
       "      <td>[[[145, 81, 40], [145, 81, 40], [145, 81, 40],...</td>\n",
       "      <td>0</td>\n",
       "    </tr>\n",
       "    <tr>\n",
       "      <th>...</th>\n",
       "      <td>...</td>\n",
       "      <td>...</td>\n",
       "    </tr>\n",
       "    <tr>\n",
       "      <th>24292</th>\n",
       "      <td>[[[96, 110, 116], [108, 116, 116], [87, 81, 74...</td>\n",
       "      <td>5</td>\n",
       "    </tr>\n",
       "    <tr>\n",
       "      <th>24300</th>\n",
       "      <td>[[[57, 49, 49], [65, 57, 57], [73, 65, 65], [8...</td>\n",
       "      <td>5</td>\n",
       "    </tr>\n",
       "    <tr>\n",
       "      <th>24315</th>\n",
       "      <td>[[[158, 80, 13], [158, 80, 13], [158, 80, 13],...</td>\n",
       "      <td>5</td>\n",
       "    </tr>\n",
       "    <tr>\n",
       "      <th>24317</th>\n",
       "      <td>[[[187, 156, 125], [189, 158, 127], [188, 159,...</td>\n",
       "      <td>5</td>\n",
       "    </tr>\n",
       "    <tr>\n",
       "      <th>24332</th>\n",
       "      <td>[[[0, 0, 3], [20, 25, 28], [13, 17, 22], [10, ...</td>\n",
       "      <td>5</td>\n",
       "    </tr>\n",
       "  </tbody>\n",
       "</table>\n",
       "<p>3000 rows × 2 columns</p>\n",
       "</div>"
      ],
      "text/plain": [
       "                                         image_150x150x3  category\n",
       "20057  [[[174, 119, 92], [189, 140, 114], [166, 124, ...         0\n",
       "20060  [[[222, 182, 110], [221, 181, 109], [220, 181,...         0\n",
       "20061  [[[247, 233, 227], [247, 233, 227], [247, 233,...         0\n",
       "20064  [[[238, 173, 145], [238, 173, 145], [238, 174,...         0\n",
       "20073  [[[145, 81, 40], [145, 81, 40], [145, 81, 40],...         0\n",
       "...                                                  ...       ...\n",
       "24292  [[[96, 110, 116], [108, 116, 116], [87, 81, 74...         5\n",
       "24300  [[[57, 49, 49], [65, 57, 57], [73, 65, 65], [8...         5\n",
       "24315  [[[158, 80, 13], [158, 80, 13], [158, 80, 13],...         5\n",
       "24317  [[[187, 156, 125], [189, 158, 127], [188, 159,...         5\n",
       "24332  [[[0, 0, 3], [20, 25, 28], [13, 17, 22], [10, ...         5\n",
       "\n",
       "[3000 rows x 2 columns]"
      ]
     },
     "execution_count": 32,
     "metadata": {},
     "output_type": "execute_result"
    }
   ],
   "source": [
    "valid"
   ]
  },
  {
   "cell_type": "code",
   "execution_count": 31,
   "metadata": {},
   "outputs": [
    {
     "data": {
      "text/plain": [
       "3    0.178994\n",
       "2    0.171298\n",
       "5    0.169731\n",
       "4    0.162035\n",
       "1    0.161821\n",
       "0    0.156121\n",
       "Name: category, dtype: float64"
      ]
     },
     "execution_count": 31,
     "metadata": {},
     "output_type": "execute_result"
    }
   ],
   "source": [
    "train.category.value_counts(normalize=True)"
   ]
  },
  {
   "cell_type": "code",
   "execution_count": 33,
   "metadata": {},
   "outputs": [
    {
     "data": {
      "text/plain": [
       "2    0.184333\n",
       "3    0.175000\n",
       "4    0.170000\n",
       "5    0.167000\n",
       "1    0.158000\n",
       "0    0.145667\n",
       "Name: category, dtype: float64"
      ]
     },
     "execution_count": 33,
     "metadata": {},
     "output_type": "execute_result"
    }
   ],
   "source": [
    "valid.category.value_counts(normalize=True)"
   ]
  },
  {
   "cell_type": "code",
   "execution_count": 34,
   "metadata": {},
   "outputs": [],
   "source": [
    "train.to_pickle(\"./assets/train.pkl\")\n",
    "valid.to_pickle(\"./assets/valid.pkl\")"
   ]
  },
  {
   "cell_type": "code",
   "execution_count": 35,
   "metadata": {},
   "outputs": [
    {
     "name": "stdout",
     "output_type": "stream",
     "text": [
      "<class 'pandas.core.frame.DataFrame'>\n",
      "Index: 14034 entries, 0 to 999\n",
      "Data columns (total 2 columns):\n",
      " #   Column           Non-Null Count  Dtype \n",
      "---  ------           --------------  ----- \n",
      " 0   image_150x150x3  14034 non-null  object\n",
      " 1   category         14034 non-null  int64 \n",
      "dtypes: int64(1), object(1)\n",
      "memory usage: 328.9+ KB\n"
     ]
    }
   ],
   "source": [
    "train.info()"
   ]
  },
  {
   "cell_type": "code",
   "execution_count": 37,
   "metadata": {},
   "outputs": [
    {
     "data": {
      "text/plain": [
       "0        [[[245, 247, 247], [245, 247, 247], [246, 248,...\n",
       "10006    [[[186, 121, 70], [185, 122, 71], [184, 121, 7...\n",
       "1001     [[[247, 194, 131], [247, 194, 131], [245, 194,...\n",
       "10014    [[[205, 187, 210], [179, 158, 183], [189, 159,...\n",
       "10018    [[[63, 32, 0], [63, 32, 0], [62, 34, 0], [62, ...\n",
       "                               ...                        \n",
       "9961     [[[251, 251, 251], [251, 251, 251], [253, 253,...\n",
       "9967     [[[84, 96, 98], [71, 81, 88], [76, 82, 95], [8...\n",
       "9978     [[[67, 60, 63], [121, 114, 117], [111, 100, 10...\n",
       "9989     [[[103, 29, 0], [104, 30, 0], [103, 31, 0], [1...\n",
       "999      [[[119, 110, 97], [125, 116, 106], [212, 208, ...\n",
       "Name: image_150x150x3, Length: 14034, dtype: object"
      ]
     },
     "execution_count": 37,
     "metadata": {},
     "output_type": "execute_result"
    }
   ],
   "source": [
    "train.image_150x150x3"
   ]
  },
  {
   "cell_type": "code",
   "execution_count": 102,
   "metadata": {},
   "outputs": [
    {
     "data": {
      "text/plain": [
       "array([[[245, 247, 247],\n",
       "        [245, 247, 247],\n",
       "        [246, 248, 248],\n",
       "        ...,\n",
       "        [248, 248, 248],\n",
       "        [245, 247, 247],\n",
       "        [245, 247, 247]],\n",
       "\n",
       "       [[244, 246, 246],\n",
       "        [245, 247, 247],\n",
       "        [245, 247, 247],\n",
       "        ...,\n",
       "        [248, 248, 248],\n",
       "        [245, 247, 247],\n",
       "        [245, 247, 247]],\n",
       "\n",
       "       [[244, 246, 246],\n",
       "        [244, 246, 246],\n",
       "        [245, 247, 247],\n",
       "        ...,\n",
       "        [248, 248, 248],\n",
       "        [245, 247, 247],\n",
       "        [245, 247, 247]],\n",
       "\n",
       "       ...,\n",
       "\n",
       "       [[ 44,  46,  47],\n",
       "        [ 59,  61,  62],\n",
       "        [ 46,  48,  49],\n",
       "        ...,\n",
       "        [ 43,  46,  51],\n",
       "        [ 37,  40,  45],\n",
       "        [ 86,  89,  94]],\n",
       "\n",
       "       [[ 74,  76,  77],\n",
       "        [ 44,  46,  47],\n",
       "        [ 40,  42,  43],\n",
       "        ...,\n",
       "        [ 14,  17,  22],\n",
       "        [ 47,  50,  55],\n",
       "        [ 31,  34,  39]],\n",
       "\n",
       "       [[ 56,  58,  59],\n",
       "        [ 52,  54,  55],\n",
       "        [ 57,  59,  60],\n",
       "        ...,\n",
       "        [ 23,  26,  31],\n",
       "        [ 43,  46,  51],\n",
       "        [ 55,  58,  63]]], dtype=uint8)"
      ]
     },
     "execution_count": 102,
     "metadata": {},
     "output_type": "execute_result"
    }
   ],
   "source": [
    "train.image_150x150x3[0]"
   ]
  },
  {
   "cell_type": "code",
   "execution_count": 101,
   "metadata": {},
   "outputs": [
    {
     "ename": "ValueError",
     "evalue": "Can only tuple-index with a MultiIndex",
     "output_type": "error",
     "traceback": [
      "\u001b[1;31m---------------------------------------------------------------------------\u001b[0m",
      "\u001b[1;31mValueError\u001b[0m                                Traceback (most recent call last)",
      "\u001b[1;32m<ipython-input-101-8798a83d4b51>\u001b[0m in \u001b[0;36m<module>\u001b[1;34m\u001b[0m\n\u001b[1;32m----> 1\u001b[1;33m \u001b[0mtrain\u001b[0m\u001b[1;33m.\u001b[0m\u001b[0mimage_150x150x3\u001b[0m\u001b[1;33m[\u001b[0m\u001b[1;33m:\u001b[0m\u001b[0mlen\u001b[0m\u001b[1;33m(\u001b[0m\u001b[0mtrain\u001b[0m\u001b[1;33m)\u001b[0m\u001b[1;33m,\u001b[0m\u001b[1;33m:\u001b[0m\u001b[1;33m,\u001b[0m\u001b[1;33m:\u001b[0m\u001b[1;33m]\u001b[0m\u001b[1;33m\u001b[0m\u001b[1;33m\u001b[0m\u001b[0m\n\u001b[0m",
      "\u001b[1;32m~\\anaconda3\\lib\\site-packages\\pandas\\core\\series.py\u001b[0m in \u001b[0;36m__getitem__\u001b[1;34m(self, key)\u001b[0m\n\u001b[0;32m    908\u001b[0m             \u001b[0mkey\u001b[0m \u001b[1;33m=\u001b[0m \u001b[0mcheck_bool_indexer\u001b[0m\u001b[1;33m(\u001b[0m\u001b[0mself\u001b[0m\u001b[1;33m.\u001b[0m\u001b[0mindex\u001b[0m\u001b[1;33m,\u001b[0m \u001b[0mkey\u001b[0m\u001b[1;33m)\u001b[0m\u001b[1;33m\u001b[0m\u001b[1;33m\u001b[0m\u001b[0m\n\u001b[0;32m    909\u001b[0m \u001b[1;33m\u001b[0m\u001b[0m\n\u001b[1;32m--> 910\u001b[1;33m         \u001b[1;32mreturn\u001b[0m \u001b[0mself\u001b[0m\u001b[1;33m.\u001b[0m\u001b[0m_get_with\u001b[0m\u001b[1;33m(\u001b[0m\u001b[0mkey\u001b[0m\u001b[1;33m)\u001b[0m\u001b[1;33m\u001b[0m\u001b[1;33m\u001b[0m\u001b[0m\n\u001b[0m\u001b[0;32m    911\u001b[0m \u001b[1;33m\u001b[0m\u001b[0m\n\u001b[0;32m    912\u001b[0m     \u001b[1;32mdef\u001b[0m \u001b[0m_get_with\u001b[0m\u001b[1;33m(\u001b[0m\u001b[0mself\u001b[0m\u001b[1;33m,\u001b[0m \u001b[0mkey\u001b[0m\u001b[1;33m)\u001b[0m\u001b[1;33m:\u001b[0m\u001b[1;33m\u001b[0m\u001b[1;33m\u001b[0m\u001b[0m\n",
      "\u001b[1;32m~\\anaconda3\\lib\\site-packages\\pandas\\core\\series.py\u001b[0m in \u001b[0;36m_get_with\u001b[1;34m(self, key)\u001b[0m\n\u001b[0;32m    921\u001b[0m         \u001b[1;32melif\u001b[0m \u001b[0misinstance\u001b[0m\u001b[1;33m(\u001b[0m\u001b[0mkey\u001b[0m\u001b[1;33m,\u001b[0m \u001b[0mtuple\u001b[0m\u001b[1;33m)\u001b[0m\u001b[1;33m:\u001b[0m\u001b[1;33m\u001b[0m\u001b[1;33m\u001b[0m\u001b[0m\n\u001b[0;32m    922\u001b[0m             \u001b[1;32mtry\u001b[0m\u001b[1;33m:\u001b[0m\u001b[1;33m\u001b[0m\u001b[1;33m\u001b[0m\u001b[0m\n\u001b[1;32m--> 923\u001b[1;33m                 \u001b[1;32mreturn\u001b[0m \u001b[0mself\u001b[0m\u001b[1;33m.\u001b[0m\u001b[0m_get_values_tuple\u001b[0m\u001b[1;33m(\u001b[0m\u001b[0mkey\u001b[0m\u001b[1;33m)\u001b[0m\u001b[1;33m\u001b[0m\u001b[1;33m\u001b[0m\u001b[0m\n\u001b[0m\u001b[0;32m    924\u001b[0m             \u001b[1;32mexcept\u001b[0m \u001b[0mValueError\u001b[0m\u001b[1;33m:\u001b[0m\u001b[1;33m\u001b[0m\u001b[1;33m\u001b[0m\u001b[0m\n\u001b[0;32m    925\u001b[0m                 \u001b[1;31m# if we don't have a MultiIndex, we may still be able to handle\u001b[0m\u001b[1;33m\u001b[0m\u001b[1;33m\u001b[0m\u001b[1;33m\u001b[0m\u001b[0m\n",
      "\u001b[1;32m~\\anaconda3\\lib\\site-packages\\pandas\\core\\series.py\u001b[0m in \u001b[0;36m_get_values_tuple\u001b[1;34m(self, key)\u001b[0m\n\u001b[0;32m    972\u001b[0m \u001b[1;33m\u001b[0m\u001b[0m\n\u001b[0;32m    973\u001b[0m         \u001b[1;32mif\u001b[0m \u001b[1;32mnot\u001b[0m \u001b[0misinstance\u001b[0m\u001b[1;33m(\u001b[0m\u001b[0mself\u001b[0m\u001b[1;33m.\u001b[0m\u001b[0mindex\u001b[0m\u001b[1;33m,\u001b[0m \u001b[0mMultiIndex\u001b[0m\u001b[1;33m)\u001b[0m\u001b[1;33m:\u001b[0m\u001b[1;33m\u001b[0m\u001b[1;33m\u001b[0m\u001b[0m\n\u001b[1;32m--> 974\u001b[1;33m             \u001b[1;32mraise\u001b[0m \u001b[0mValueError\u001b[0m\u001b[1;33m(\u001b[0m\u001b[1;34m\"Can only tuple-index with a MultiIndex\"\u001b[0m\u001b[1;33m)\u001b[0m\u001b[1;33m\u001b[0m\u001b[1;33m\u001b[0m\u001b[0m\n\u001b[0m\u001b[0;32m    975\u001b[0m \u001b[1;33m\u001b[0m\u001b[0m\n\u001b[0;32m    976\u001b[0m         \u001b[1;31m# If key is contained, would have returned by now\u001b[0m\u001b[1;33m\u001b[0m\u001b[1;33m\u001b[0m\u001b[1;33m\u001b[0m\u001b[0m\n",
      "\u001b[1;31mValueError\u001b[0m: Can only tuple-index with a MultiIndex"
     ]
    }
   ],
   "source": [
    "train.image_150x150x3[:len(train),:,:]"
   ]
  },
  {
   "cell_type": "code",
   "execution_count": 99,
   "metadata": {},
   "outputs": [
    {
     "data": {
      "text/plain": [
       "0        [[[245, 247, 247], [245, 247, 247], [246, 248,...\n",
       "10006    [[[186, 121, 70], [185, 122, 71], [184, 121, 7...\n",
       "1001     [[[247, 194, 131], [247, 194, 131], [245, 194,...\n",
       "10014    [[[205, 187, 210], [179, 158, 183], [189, 159,...\n",
       "10018    [[[63, 32, 0], [63, 32, 0], [62, 34, 0], [62, ...\n",
       "                               ...                        \n",
       "9961     [[[251, 251, 251], [251, 251, 251], [253, 253,...\n",
       "9967     [[[84, 96, 98], [71, 81, 88], [76, 82, 95], [8...\n",
       "9978     [[[67, 60, 63], [121, 114, 117], [111, 100, 10...\n",
       "9989     [[[103, 29, 0], [104, 30, 0], [103, 31, 0], [1...\n",
       "999      [[[119, 110, 97], [125, 116, 106], [212, 208, ...\n",
       "Name: image_150x150x3, Length: 14034, dtype: object"
      ]
     },
     "execution_count": 99,
     "metadata": {},
     "output_type": "execute_result"
    }
   ],
   "source": [
    "train.image_150x150x3[:len(train),:,:]"
   ]
  },
  {
   "cell_type": "code",
   "execution_count": 85,
   "metadata": {},
   "outputs": [
    {
     "data": {
      "text/plain": [
       "247"
      ]
     },
     "execution_count": 85,
     "metadata": {},
     "output_type": "execute_result"
    }
   ],
   "source": [
    "train.image_150x150x3[0][0][0][1]"
   ]
  },
  {
   "cell_type": "code",
   "execution_count": 86,
   "metadata": {},
   "outputs": [
    {
     "data": {
      "text/plain": [
       "245"
      ]
     },
     "execution_count": 86,
     "metadata": {},
     "output_type": "execute_result"
    }
   ],
   "source": [
    "train.image_150x150x3[0][0][1][0]"
   ]
  },
  {
   "cell_type": "code",
   "execution_count": 87,
   "metadata": {},
   "outputs": [
    {
     "data": {
      "text/plain": [
       "244"
      ]
     },
     "execution_count": 87,
     "metadata": {},
     "output_type": "execute_result"
    }
   ],
   "source": [
    "train.image_150x150x3[0][1][0][0]"
   ]
  },
  {
   "cell_type": "code",
   "execution_count": 88,
   "metadata": {},
   "outputs": [
    {
     "data": {
      "text/plain": [
       "186"
      ]
     },
     "execution_count": 88,
     "metadata": {},
     "output_type": "execute_result"
    }
   ],
   "source": [
    "train.image_150x150x3[1][0][0][0]"
   ]
  },
  {
   "cell_type": "code",
   "execution_count": 92,
   "metadata": {},
   "outputs": [
    {
     "data": {
      "text/plain": [
       "(150, 150, 3)"
      ]
     },
     "execution_count": 92,
     "metadata": {},
     "output_type": "execute_result"
    }
   ],
   "source": [
    "train.image_150x150x3[1001].shape"
   ]
  },
  {
   "cell_type": "code",
   "execution_count": 54,
   "metadata": {},
   "outputs": [
    {
     "data": {
      "text/plain": [
       "array([[252, 231, 203],\n",
       "       [252, 231, 203],\n",
       "       [252, 231, 203],\n",
       "       [252, 231, 203],\n",
       "       [251, 230, 202],\n",
       "       [251, 230, 202],\n",
       "       [250, 229, 201],\n",
       "       [250, 229, 201],\n",
       "       [251, 229, 201],\n",
       "       [251, 229, 201],\n",
       "       [251, 230, 199],\n",
       "       [251, 230, 199],\n",
       "       [253, 229, 199],\n",
       "       [253, 229, 199],\n",
       "       [253, 229, 199],\n",
       "       [253, 229, 199],\n",
       "       [250, 229, 198],\n",
       "       [250, 229, 198],\n",
       "       [250, 229, 198],\n",
       "       [250, 229, 198],\n",
       "       [250, 229, 197],\n",
       "       [249, 228, 196],\n",
       "       [251, 228, 196],\n",
       "       [250, 227, 195],\n",
       "       [251, 229, 194],\n",
       "       [251, 229, 194],\n",
       "       [251, 229, 193],\n",
       "       [250, 228, 192],\n",
       "       [252, 228, 192],\n",
       "       [252, 228, 192],\n",
       "       [252, 229, 191],\n",
       "       [252, 229, 191],\n",
       "       [252, 226, 189],\n",
       "       [252, 226, 189],\n",
       "       [252, 226, 189],\n",
       "       [252, 226, 189],\n",
       "       [252, 226, 189],\n",
       "       [252, 226, 189],\n",
       "       [252, 226, 189],\n",
       "       [252, 226, 189],\n",
       "       [253, 227, 190],\n",
       "       [252, 226, 189],\n",
       "       [251, 225, 188],\n",
       "       [251, 225, 188],\n",
       "       [251, 225, 188],\n",
       "       [251, 225, 188],\n",
       "       [251, 225, 188],\n",
       "       [251, 225, 188],\n",
       "       [250, 223, 186],\n",
       "       [250, 223, 186],\n",
       "       [250, 223, 186],\n",
       "       [250, 223, 186],\n",
       "       [250, 224, 184],\n",
       "       [250, 224, 184],\n",
       "       [252, 223, 184],\n",
       "       [252, 223, 184],\n",
       "       [254, 224, 183],\n",
       "       [253, 223, 182],\n",
       "       [252, 223, 179],\n",
       "       [251, 222, 178],\n",
       "       [253, 221, 178],\n",
       "       [253, 221, 178],\n",
       "       [253, 221, 178],\n",
       "       [254, 222, 179],\n",
       "       [252, 221, 176],\n",
       "       [252, 221, 176],\n",
       "       [251, 220, 175],\n",
       "       [251, 220, 175],\n",
       "       [251, 220, 175],\n",
       "       [250, 219, 174],\n",
       "       [252, 219, 173],\n",
       "       [252, 219, 173],\n",
       "       [254, 221, 175],\n",
       "       [254, 221, 175],\n",
       "       [253, 221, 172],\n",
       "       [253, 221, 172],\n",
       "       [253, 220, 171],\n",
       "       [252, 219, 170],\n",
       "       [251, 218, 169],\n",
       "       [251, 218, 169],\n",
       "       [252, 219, 170],\n",
       "       [252, 219, 170],\n",
       "       [251, 218, 169],\n",
       "       [251, 218, 169],\n",
       "       [252, 216, 168],\n",
       "       [252, 216, 168],\n",
       "       [252, 216, 168],\n",
       "       [252, 216, 168],\n",
       "       [253, 215, 167],\n",
       "       [252, 214, 166],\n",
       "       [252, 214, 166],\n",
       "       [251, 213, 165],\n",
       "       [251, 213, 165],\n",
       "       [251, 213, 165],\n",
       "       [251, 213, 165],\n",
       "       [251, 214, 164],\n",
       "       [250, 213, 161],\n",
       "       [250, 214, 160],\n",
       "       [252, 214, 160],\n",
       "       [251, 213, 159],\n",
       "       [251, 213, 159],\n",
       "       [251, 213, 159],\n",
       "       [251, 213, 159],\n",
       "       [251, 213, 159],\n",
       "       [251, 211, 158],\n",
       "       [251, 211, 158],\n",
       "       [251, 211, 158],\n",
       "       [251, 211, 158],\n",
       "       [250, 210, 157],\n",
       "       [250, 210, 157],\n",
       "       [250, 210, 157],\n",
       "       [250, 210, 157],\n",
       "       [249, 211, 157],\n",
       "       [250, 212, 158],\n",
       "       [250, 210, 157],\n",
       "       [247, 207, 154],\n",
       "       [247, 207, 155],\n",
       "       [250, 210, 158],\n",
       "       [252, 212, 160],\n",
       "       [250, 210, 158],\n",
       "       [250, 210, 158],\n",
       "       [250, 210, 158],\n",
       "       [250, 210, 157],\n",
       "       [250, 210, 157],\n",
       "       [252, 210, 157],\n",
       "       [251, 209, 156],\n",
       "       [251, 210, 155],\n",
       "       [251, 211, 153],\n",
       "       [253, 210, 153],\n",
       "       [253, 211, 152],\n",
       "       [252, 211, 149],\n",
       "       [250, 209, 147],\n",
       "       [251, 207, 146],\n",
       "       [250, 206, 145],\n",
       "       [250, 206, 145],\n",
       "       [250, 206, 145],\n",
       "       [249, 206, 143],\n",
       "       [249, 206, 143],\n",
       "       [250, 206, 143],\n",
       "       [250, 206, 143],\n",
       "       [250, 206, 143],\n",
       "       [250, 206, 143],\n",
       "       [250, 206, 143],\n",
       "       [250, 206, 143],\n",
       "       [250, 206, 143],\n",
       "       [251, 207, 144],\n",
       "       [251, 207, 144],\n",
       "       [251, 207, 144],\n",
       "       [249, 205, 142],\n",
       "       [248, 204, 141]], dtype=uint8)"
      ]
     },
     "execution_count": 54,
     "metadata": {},
     "output_type": "execute_result"
    }
   ],
   "source": [
    "train.image_150x150x3[1001][0]"
   ]
  },
  {
   "cell_type": "code",
   "execution_count": null,
   "metadata": {},
   "outputs": [],
   "source": []
=======
   "source": [
    "\n",
    "data = pd.read_csv()"
   ]
>>>>>>> cd784c653aeb0864e94f9c1134e60272f5fdc9c3
  }
 ],
 "metadata": {
  "kernelspec": {
   "display_name": "Python 3",
   "language": "python",
   "name": "python3"
  },
  "language_info": {
   "codemirror_mode": {
    "name": "ipython",
    "version": 3
   },
   "file_extension": ".py",
   "mimetype": "text/x-python",
   "name": "python",
   "nbconvert_exporter": "python",
   "pygments_lexer": "ipython3",
   "version": "3.8.3"
  }
 },
 "nbformat": 4,
 "nbformat_minor": 4
}
